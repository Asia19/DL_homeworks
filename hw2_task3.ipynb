{
 "cells": [
  {
   "cell_type": "code",
   "execution_count": 1,
   "metadata": {},
   "outputs": [],
   "source": [
    "import pandas as pd\n",
    "import numpy as np\n",
    "import torch\n",
    "import torch.nn as nn\n",
    "import torch.nn.functional as F\n",
    "import torch.optim as optim\n",
    "from sklearn.model_selection import train_test_split\n",
    "from torch.autograd import Variable"
   ]
  },
  {
   "cell_type": "markdown",
   "metadata": {},
   "source": [
    "### data"
   ]
  },
  {
   "cell_type": "code",
   "execution_count": 2,
   "metadata": {},
   "outputs": [],
   "source": [
    "X = pd.read_csv('mnist_data.csv').values[:, 1:]\n",
    "y = pd.read_csv('mnist_target.csv').values[:, 1]\n",
    "X = X / 255\n",
    "X_train, X_test, y_train, y_test = train_test_split(X, y)"
   ]
  },
  {
   "cell_type": "code",
   "execution_count": 3,
   "metadata": {},
   "outputs": [],
   "source": [
    "def mini_batches(X, y, batch_size):\n",
    "    m, _ = X.shape\n",
    "    indices = list(range(m))\n",
    "    X_, y_ = torch.Tensor(X).float(), torch.Tensor(y).long()\n",
    "    X_, y_ = X_[indices], y_[indices]\n",
    "    pos = 0\n",
    "    while pos < m:\n",
    "        X_batch, y_batch = X_[pos:pos+batch_size], y_[pos:pos+batch_size]\n",
    "        yield (X_batch, y_batch)\n",
    "        pos += batch_size"
   ]
  },
  {
   "cell_type": "markdown",
   "metadata": {},
   "source": [
    "### model"
   ]
  },
  {
   "cell_type": "code",
   "execution_count": 46,
   "metadata": {},
   "outputs": [],
   "source": [
    "class Classifier(nn.Module):\n",
    "    def __init__(self, input_size, hidden_sizes, output_size):\n",
    "        super(Classifier, self).__init__()\n",
    "        self.fc1 = nn.Linear(input_size, hidden_sizes[0])\n",
    "        self.fc2 = nn.Linear(hidden_sizes[0], hidden_sizes[1])\n",
    "        self.fc3 = nn.Linear(hidden_sizes[1], output_size)\n",
    "\n",
    "    def forward(self, x):\n",
    "        x = F.relu(self.fc1(x))\n",
    "        x = F.relu(self.fc2(x))\n",
    "        return F.log_softmax(self.fc3(x), dim=1)\n",
    "    \n",
    "    def predict(self, x):\n",
    "        x = F.relu(self.fc1(x))\n",
    "        x = F.relu(self.fc2(x))\n",
    "        return F.softmax(self.fc3(x), dim=1)"
   ]
  },
  {
   "cell_type": "markdown",
   "metadata": {},
   "source": [
    "### model training"
   ]
  },
  {
   "cell_type": "code",
   "execution_count": 47,
   "metadata": {},
   "outputs": [],
   "source": [
    "LR = 5e-3\n",
    "MOMENTUM = 0.9\n",
    "input_size = 784\n",
    "hidden_sizes = [128, 64]\n",
    "output_size = 10\n",
    "batch_size = 64\n",
    "\n",
    "classifier = Classifier(input_size, hidden_sizes, output_size)\n",
    "optimizer = optim.SGD(classifier.parameters(), lr=LR, momentum=MOMENTUM)\n",
    "loss_function = nn.NLLLoss()"
   ]
  },
  {
   "cell_type": "code",
   "execution_count": 48,
   "metadata": {},
   "outputs": [],
   "source": [
    "n_epochs = 30\n",
    "losses = []\n",
    "\n",
    "def train():\n",
    "    for i in range(n_epochs):\n",
    "        epoch_loss = 0\n",
    "        for batch in mini_batches(X_train, y_train, 64):\n",
    "            X_, y_ = batch\n",
    "            y_hat = classifier(X_)\n",
    "            optimizer.zero_grad()\n",
    "            loss = loss_function(y_hat, y_)\n",
    "            epoch_loss += loss\n",
    "            loss.backward()\n",
    "            optimizer.step()\n",
    "        print(f'{i} epoch loss = {epoch_loss}')\n",
    "        losses.append(epoch_loss)"
   ]
  },
  {
   "cell_type": "code",
   "execution_count": 49,
   "metadata": {},
   "outputs": [
    {
     "name": "stdout",
     "output_type": "stream",
     "text": [
      "0 epoch loss = 665.2493896484375\n",
      "1 epoch loss = 244.6355438232422\n",
      "2 epoch loss = 188.49159240722656\n",
      "3 epoch loss = 149.6293487548828\n",
      "4 epoch loss = 122.643310546875\n",
      "5 epoch loss = 103.14611053466797\n",
      "6 epoch loss = 88.41453552246094\n",
      "7 epoch loss = 77.00957489013672\n",
      "8 epoch loss = 67.7902603149414\n",
      "9 epoch loss = 60.29049301147461\n",
      "10 epoch loss = 53.99812316894531\n",
      "11 epoch loss = 48.5218391418457\n",
      "12 epoch loss = 43.720619201660156\n",
      "13 epoch loss = 39.46942901611328\n",
      "14 epoch loss = 35.76572799682617\n",
      "15 epoch loss = 32.342708587646484\n",
      "16 epoch loss = 29.31370735168457\n",
      "17 epoch loss = 26.538219451904297\n",
      "18 epoch loss = 24.02279281616211\n",
      "19 epoch loss = 21.75471305847168\n",
      "20 epoch loss = 19.67836570739746\n",
      "21 epoch loss = 17.76605987548828\n",
      "22 epoch loss = 16.05597686767578\n",
      "23 epoch loss = 14.533175468444824\n",
      "24 epoch loss = 13.103070259094238\n",
      "25 epoch loss = 11.854777336120605\n",
      "26 epoch loss = 10.735057830810547\n",
      "27 epoch loss = 9.701872825622559\n",
      "28 epoch loss = 8.821523666381836\n",
      "29 epoch loss = 8.008302688598633\n"
     ]
    }
   ],
   "source": [
    "train()"
   ]
  },
  {
   "cell_type": "code",
   "execution_count": 50,
   "metadata": {},
   "outputs": [
    {
     "data": {
      "image/png": "[encoded data removed]",
      "text/plain": [
       "<Figure size 432x288 with 1 Axes>"
      ]
     },
     "metadata": {
      "needs_background": "light"
     },
     "output_type": "display_data"
    }
   ],
   "source": [
    "import matplotlib.pyplot as plt\n",
    "\n",
    "plt.plot(np.arange(1, n_epochs+1), losses)\n",
    "plt.title('losses')\n",
    "plt.xlabel('epoch', fontsize=10)\n",
    "plt.ylabel('loss', fontsize=10)\n",
    "plt.show()"
   ]
  },
  {
   "cell_type": "markdown",
   "metadata": {},
   "source": [
    "## adversarial attack"
   ]
  },
  {
   "cell_type": "code",
   "execution_count": 51,
   "metadata": {},
   "outputs": [],
   "source": [
    "def fast_adversarial_example(dig, n=784, n_classes=10, eta=0.01, iters=10):\n",
    "    y = torch.tensor([dig]).long()\n",
    "    x = Variable(torch.tensor(np.random.normal(loc=0, scale=0.01, size=(1,n))).float(), requires_grad=True)\n",
    "    for _ in range(iters):\n",
    "        y_hat = classifier(x)\n",
    "        classifier.zero_grad()\n",
    "        loss = loss_function(y_hat, y)\n",
    "        loss.backward()\n",
    "        grad = x.grad.data\n",
    "        x = Variable(torch.clamp(x - eta * grad.sign(), 0, 1), requires_grad=True)\n",
    "    return x"
   ]
  },
  {
   "cell_type": "code",
   "execution_count": 89,
   "metadata": {},
   "outputs": [],
   "source": [
    "def predict(x):\n",
    "    y_hat = classifier.predict(x)\n",
    "    return torch.argmax(y_hat), y_hat"
   ]
  },
  {
   "cell_type": "code",
   "execution_count": 99,
   "metadata": {},
   "outputs": [],
   "source": [
    "example = fast_adversarial_example(8, eta=0.1, iters=10)\n",
    "alpha = 0.5\n",
    "X_spoiled = np.maximum(X_test*(1-alpha), alpha*example.detach().numpy())\n",
    "x_target = torch.tensor(X_spoiled[0]).float()\n",
    "y_pred, score = predict(x_target.unsqueeze(0))\n",
    "x = np.arange(10)\n",
    "score = list(score.data.numpy().reshape(-1))"
   ]
  },
  {
   "cell_type": "code",
   "execution_count": 100,
   "metadata": {},
   "outputs": [
    {
     "data": {
      "image/png": "[encoded data removed]",
      "text/plain": [
       "<Figure size 432x288 with 1 Axes>"
      ]
     },
     "metadata": {
      "needs_background": "light"
     },
     "output_type": "display_data"
    }
   ],
   "source": [
    "x = np.arange(10)\n",
    "plt.bar(x, score)\n",
    "plt.xticks(x)\n",
    "plt.show()"
   ]
  }
 ],
 "metadata": {
  "kernelspec": {
   "display_name": "Python 3",
   "language": "python",
   "name": "python3"
  },
  "language_info": {
   "codemirror_mode": {
    "name": "ipython",
    "version": 3
   },
   "file_extension": ".py",
   "mimetype": "text/x-python",
   "name": "python",
   "nbconvert_exporter": "python",
   "pygments_lexer": "ipython3",
   "version": "3.7.4"
  }
 },
 "nbformat": 4,
 "nbformat_minor": 2
}
