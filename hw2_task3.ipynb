{
 "cells": [
  {
   "cell_type": "code",
   "execution_count": 1,
   "metadata": {},
   "outputs": [],
   "source": [
    "import pandas as pd\n",
    "import numpy as np\n",
    "import torch\n",
    "import torch.nn as nn\n",
    "import torch.nn.functional as F\n",
    "import torch.optim as optim\n",
    "from sklearn.model_selection import train_test_split\n",
    "from torch.autograd import Variable"
   ]
  },
  {
   "cell_type": "markdown",
   "metadata": {},
   "source": [
    "### data"
   ]
  },
  {
   "cell_type": "code",
   "execution_count": 2,
   "metadata": {},
   "outputs": [],
   "source": [
    "X = pd.read_csv('mnist_data.csv').values[:, 1:]\n",
    "y = pd.read_csv('mnist_target.csv').values[:, 1]\n",
    "X = X / 255\n",
    "X_train, X_test, y_train, y_test = train_test_split(X, y)"
   ]
  },
  {
   "cell_type": "code",
   "execution_count": 3,
   "metadata": {},
   "outputs": [],
   "source": [
    "def mini_batches(X, y, batch_size):\n",
    "    m, _ = X.shape\n",
    "    indices = list(range(m))\n",
    "    X_, y_ = torch.Tensor(X).float(), torch.Tensor(y).long()\n",
    "    X_, y_ = X_[indices], y_[indices]\n",
    "    pos = 0\n",
    "    while pos < m:\n",
    "        X_batch, y_batch = X_[pos:pos+batch_size], y_[pos:pos+batch_size]\n",
    "        yield (X_batch, y_batch)\n",
    "        pos += batch_size"
   ]
  },
  {
   "cell_type": "markdown",
   "metadata": {},
   "source": [
    "### model"
   ]
  },
  {
   "cell_type": "code",
   "execution_count": 4,
   "metadata": {},
   "outputs": [],
   "source": [
    "class Classifier(nn.Module):\n",
    "    def __init__(self, input_size, hidden_sizes, output_size):\n",
    "        super(Classifier, self).__init__()\n",
    "        self.fc1 = nn.Linear(input_size, hidden_sizes[0])\n",
    "        self.fc2 = nn.Linear(hidden_sizes[0], hidden_sizes[1])\n",
    "        self.fc3 = nn.Linear(hidden_sizes[1], output_size)\n",
    "\n",
    "    def forward(self, x):\n",
    "        x = F.relu(self.fc1(x))\n",
    "        x = F.relu(self.fc2(x))\n",
    "        return F.log_softmax(self.fc3(x), dim=1)"
   ]
  },
  {
   "cell_type": "markdown",
   "metadata": {},
   "source": [
    "### model training"
   ]
  },
  {
   "cell_type": "code",
   "execution_count": 21,
   "metadata": {},
   "outputs": [],
   "source": [
    "LR = 5e-3\n",
    "MOMENTUM = 0.9\n",
    "input_size = 784\n",
    "hidden_sizes = [128, 64]\n",
    "output_size = 10\n",
    "batch_size = 64\n",
    "\n",
    "classifier = Classifier(input_size, hidden_sizes, output_size)\n",
    "optimizer = optim.SGD(classifier.parameters(), lr=LR, momentum=MOMENTUM)\n",
    "loss_function = nn.NLLLoss()"
   ]
  },
  {
   "cell_type": "code",
   "execution_count": 22,
   "metadata": {},
   "outputs": [],
   "source": [
    "n_epochs = 30\n",
    "losses = []\n",
    "\n",
    "def train():\n",
    "    for i in range(n_epochs):\n",
    "        epoch_loss = 0\n",
    "        for batch in mini_batches(X_train, y_train, 64):\n",
    "            X_, y_ = batch\n",
    "            y_hat = classifier(X_)\n",
    "            optimizer.zero_grad()\n",
    "            loss = loss_function(y_hat, y_)\n",
    "            epoch_loss += loss\n",
    "            loss.backward()\n",
    "            optimizer.step()\n",
    "        print(f'{i} epoch loss = {epoch_loss}')\n",
    "        losses.append(epoch_loss)"
   ]
  },
  {
   "cell_type": "code",
   "execution_count": null,
   "metadata": {},
   "outputs": [
    {
     "name": "stdout",
     "output_type": "stream",
     "text": [
      "0 epoch loss = 643.4887084960938\n",
      "1 epoch loss = 235.7663116455078\n",
      "2 epoch loss = 179.10635375976562\n",
      "3 epoch loss = 143.241943359375\n",
      "4 epoch loss = 119.12183380126953\n",
      "5 epoch loss = 101.10900115966797\n"
     ]
    }
   ],
   "source": [
    "train()"
   ]
  },
  {
   "cell_type": "code",
   "execution_count": null,
   "metadata": {},
   "outputs": [],
   "source": [
    "import matplotlib.pyplot as plt\n",
    "\n",
    "plt.plot(np.arange(1, n_epochs+1), losses)\n",
    "plt.title('losses')\n",
    "plt.xlabel('epoch', fontsize=10)\n",
    "plt.ylabel('loss', fontsize=10)\n",
    "plt.show()"
   ]
  },
  {
   "cell_type": "markdown",
   "metadata": {},
   "source": [
    "## adversarial attack"
   ]
  },
  {
   "cell_type": "code",
   "execution_count": null,
   "metadata": {},
   "outputs": [],
   "source": [
    "def fast_adversarial_example(dig, n=784, n_classes=10, eta=0.01, iters=10):\n",
    "    y = torch.tensor([dig]).long()\n",
    "    x = Variable(torch.tensor(np.random.normal(loc=0, scale=0.01, size=(1,n))).float(), requires_grad=True)\n",
    "    for _ in range(iters):\n",
    "        y_hat = classifier(x)\n",
    "        classifier.zero_grad()\n",
    "        loss = loss_function(y_hat, y)\n",
    "        loss.backward()\n",
    "        grad = x.grad.data\n",
    "        x = Variable(torch.clamp(x - eta * grad.sign(), 0, 1), requires_grad=True)\n",
    "    return x"
   ]
  },
  {
   "cell_type": "code",
   "execution_count": null,
   "metadata": {},
   "outputs": [],
   "source": [
    "example = fast_adversarial_example(8, eta=0.1, iters=5)\n",
    "alpha = 0.5\n",
    "X_spoiled = np.maximum(X_test*(1-alpha), alpha*example.detach().numpy())\n",
    "x_target = X_spoiled[0]"
   ]
  },
  {
   "cell_type": "code",
   "execution_count": null,
   "metadata": {},
   "outputs": [],
   "source": [
    "def predict(x):\n",
    "    y_hat = classifier(x)\n",
    "    return torch.argmax(y_hat), y_hat"
   ]
  },
  {
   "cell_type": "code",
   "execution_count": null,
   "metadata": {},
   "outputs": [],
   "source": [
    "y_pred, score = predict(x_target.unsquuese(0))"
   ]
  }
 ],
 "metadata": {
  "kernelspec": {
   "display_name": "Python 3",
   "language": "python",
   "name": "python3"
  },
  "language_info": {
   "codemirror_mode": {
    "name": "ipython",
    "version": 3
   },
   "file_extension": ".py",
   "mimetype": "text/x-python",
   "name": "python",
   "nbconvert_exporter": "python",
   "pygments_lexer": "ipython3",
   "version": "3.7.4"
  }
 },
 "nbformat": 4,
 "nbformat_minor": 2
}
